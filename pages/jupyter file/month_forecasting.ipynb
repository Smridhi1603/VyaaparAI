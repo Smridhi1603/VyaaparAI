import pandas as pd
from prophet import Prophet
import matplotlib.pyplot as plt

# Load and prepare data
file_path = 'hyperlocal_demand_forecasting_with_cosmetics_items.xlsx'  # Update path if necessary
data = pd.read_excel(file_path)

# Ensure 'Month' column is datetime type
data['Month'] = pd.to_datetime(data['Month'], format='%Y-%m')
data['Product Name'] = data['Product Name'].astype(str)  # Use 'Product Name' as identifier

# Forecast each product's sales
product_forecasts = {}

# Get unique product names
products = data['Product Name'].unique()

for product in products:
    # Filter data for each product
    product_data = data[data['Product Name'] == product]
    
    # Aggregate monthly sales
    monthly_demand = product_data.groupby('Month')['Monthly_Sales'].sum().reset_index()
    monthly_demand.columns = ['ds', 'y']
    
    # Initialize and train Prophet model
    model = Prophet()
    model.fit(monthly_demand)
    
    # Make future dataframe for 12 months of 2024
    future_dates = model.make_future_dataframe(periods=12, freq='MS')
    forecast = model.predict(future_dates)
    
    # Filter forecast data for 2024
    forecast_2024 = forecast[forecast['ds'].dt.year == 2024][['ds', 'yhat', 'yhat_lower', 'yhat_upper']]
    
    # Store forecast data for the product
    product_forecasts[product] = forecast_2024
    
    # Plot forecast for the product (optional)
    plt.figure(figsize=(10, 6))
    plt.plot(monthly_demand['ds'], monthly_demand['y'], label='Historical Sales')
    plt.plot(forecast['ds'], forecast['yhat'], label='Forecast', linestyle='--')
    plt.fill_between(forecast['ds'], forecast['yhat_lower'], forecast['yhat_upper'], color='gray', alpha=0.2)
    plt.title(f'Sales Forecast for {product} in 2024')
    plt.xlabel('Date')
    plt.ylabel('Sales')
    plt.legend()
    plt.grid()
    plt.show()

# Output example forecast data for one product
print("Forecast for product:", products[0])
product_forecasts[products[0]]
